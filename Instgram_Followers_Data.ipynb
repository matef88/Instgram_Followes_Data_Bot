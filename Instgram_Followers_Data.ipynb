{
 "cells": [
  {
   "cell_type": "code",
   "execution_count": 4,
   "outputs": [],
   "source": [
    "import time\n",
    "import pandas as pd\n",
    "from selenium import webdriver\n",
    "from selenium.webdriver.common.by import By\n",
    "from selenium.webdriver.common.keys import Keys\n",
    "from selenium.common.exceptions import NoSuchElementException"
   ],
   "metadata": {
    "collapsed": false
   }
  },
  {
   "cell_type": "markdown",
   "source": [
    "#### Initialisation the driver"
   ],
   "metadata": {
    "collapsed": false
   }
  },
  {
   "cell_type": "code",
   "execution_count": 5,
   "outputs": [],
   "source": [
    "#website\n",
    "url = 'https://www.instagram.com'\n",
    "username = 'XXXXXXXX' # <<<<<<< ENTER USERNAME HERE\n",
    "password = 'XXXXXXXX' # <<<<<<< ENTER PASSWORD HERE"
   ],
   "metadata": {
    "collapsed": false
   }
  },
  {
   "cell_type": "markdown",
   "source": [
    "#### Login\n",
    "> you can change the user name and password from the below"
   ],
   "metadata": {
    "collapsed": false
   }
  },
  {
   "cell_type": "code",
   "execution_count": 31,
   "outputs": [],
   "source": [
    "# get the driver and open the url\n",
    "driver = webdriver.Chrome()\n",
    "driver.get(url)\n",
    "driver.maximize_window()\n",
    "time.sleep(10)\n",
    "\n",
    "#enter username\n",
    "enterUserName = driver.find_element(By.XPATH, \"//input[@aria-label='Phone number, username, or email']\")\n",
    "enterUserName.send_keys(username)\n",
    "time.sleep(2)\n",
    "\n",
    "#enter password\n",
    "enterPassword = driver.find_element(By.XPATH, \"//input[@aria-label='Password']\")\n",
    "enterPassword.send_keys(password)\n",
    "time.sleep(2)\n",
    "\n",
    "#click login\n",
    "loginClick = driver.find_element(By.XPATH, '//*[@id=\"loginForm\"]/div/div[3]')\n",
    "loginClick.click()\n",
    "time.sleep(10)\n",
    "\n",
    "# user to input the authentication code\n",
    "try:\n",
    "    authucator = driver.find_element(By.CLASS_NAME, '_aa48')\n",
    "    authucator.send_keys(input())\n",
    "    time.sleep(1)\n",
    "    validateAuth = driver.find_element(By.CLASS_NAME, '_acan')\n",
    "    validateAuth.click()\n",
    "    time.sleep(10)\n",
    "except:\n",
    "    pass\n",
    "\n",
    "#try first not now\n",
    "try:\n",
    "    NotNow = driver.find_element(By.XPATH, \"//button[text()='Not Now']\")\n",
    "    NotNow.click()\n",
    "    time.sleep(15)\n",
    "except:\n",
    "    pass\n",
    "\n",
    "#try second not now\n",
    "try:\n",
    "    secondNotNow = driver.find_element(By.XPATH, \"//button[text()='Not Now']\")\n",
    "    secondNotNow.click()\n",
    "    time.sleep(5)\n",
    "except:\n",
    "    pass\n",
    "\n",
    "#search profile\n",
    "search01 = driver.find_element(By.XPATH, \"//div[text()='Search']\")\n",
    "search01.click()\n",
    "time.sleep(5)\n",
    "search02 = driver.find_element(By.XPATH, \"//input[@aria-label='Search input']\")\n",
    "search02.send_keys('atefphotos') # <<<<<<<< ENTER TARGET ACCOUNT\n",
    "time.sleep(3)\n",
    "#press enter twice\n",
    "count = 0\n",
    "while count < 3:\n",
    "    search02.send_keys(Keys.ENTER)\n",
    "    count += 1\n",
    "time.sleep(2)\n",
    "\n",
    "#profile information\n",
    "posts = driver.find_element(By.XPATH, \"//ul[@class='x78zum5 x1q0g3np xieb3on']/li[1]/div/span\")\n",
    "followers = driver.find_element(By.XPATH, \"//ul[@class='x78zum5 x1q0g3np xieb3on']/li[2]/a/div/span\")\n",
    "following = driver.find_element(By.XPATH, \"//ul[@class='x78zum5 x1q0g3np xieb3on']/li[3]/a/div/span\")\n",
    "profileHandle = driver.find_element(By.XPATH, \"//div[@class='x1n2onr6 xeuugli xs83m0k x1q0g3np x78zum5 x6s0dn4']/a/h2\")\n",
    "\n",
    "#open follower list\n",
    "followers.click()\n",
    "time.sleep(5)\n",
    "followers_count = int(followers.text.replace(',', ''))\n",
    "\n",
    "# Scroll down\n",
    "while True:\n",
    "        followers_listScroll = driver.find_element(By.XPATH, \"//div[@class='_ab8w  _ab94 _ab99 _ab9h _ab9m _ab9o _abcm']/div[1]/div/div/span/a\")\n",
    "        followers_listScroll.send_keys(Keys.PAGE_DOWN)\n",
    "        time.sleep(.5)\n",
    "        followers_list = driver.find_elements(By.XPATH, \"//div[@class='_ab8w  _ab94 _ab99 _ab9h _ab9m _ab9o _abcm']/div[1]/div/div/span/a\")\n",
    "        followers_list_count = len(followers_list)\n",
    "        if followers_list_count == followers_count:\n",
    "            break\n",
    "\n",
    "#append the followers list\n",
    "full_list_of_followers = []\n",
    "for i in followers_list:\n",
    "    full_list_of_followers.append(i.text)"
   ],
   "metadata": {
    "collapsed": false
   }
  },
  {
   "cell_type": "markdown",
   "source": [
    "#### Cross Check our data"
   ],
   "metadata": {
    "collapsed": false
   }
  },
  {
   "cell_type": "code",
   "execution_count": null,
   "outputs": [],
   "source": [
    "full_list_of_followers"
   ],
   "metadata": {
    "collapsed": false
   }
  },
  {
   "cell_type": "code",
   "execution_count": null,
   "outputs": [],
   "source": [
    "len(full_list_of_followers)"
   ],
   "metadata": {
    "collapsed": false
   }
  },
  {
   "cell_type": "markdown",
   "source": [
    "#### Save Followers List"
   ],
   "metadata": {
    "collapsed": false
   }
  },
  {
   "cell_type": "code",
   "execution_count": null,
   "outputs": [],
   "source": [
    "df = pd.DataFrame({\"Followers\":full_list_of_followers})\n",
    "df.to_csv('Full_Followers_List.csv') # <<<<<<< You can change the file name here"
   ],
   "metadata": {
    "collapsed": false
   }
  },
  {
   "cell_type": "markdown",
   "source": [
    "#### Get the followers data in DataFrame"
   ],
   "metadata": {
    "collapsed": false
   }
  },
  {
   "cell_type": "code",
   "execution_count": 15,
   "outputs": [
    {
     "data": {
      "text/plain": "0         arabwomennews\n1         shaklee.wanih\n2           photo_hmady\n3       aviation20_2005\n4       lyndsey.o.blake\n             ...       \n3010     mustafadahshan\n3011      just.vape.ksa\n3012       vapeco.store\n3013        bhvapers_00\n3014       jeddah_vapez\nName: Followers, Length: 3015, dtype: object"
     },
     "execution_count": 15,
     "metadata": {},
     "output_type": "execute_result"
    }
   ],
   "source": [
    "df = pd.read_csv('Full_Followers_List.csv')\n",
    "df['Followers']"
   ],
   "metadata": {
    "collapsed": false
   }
  },
  {
   "cell_type": "markdown",
   "source": [
    "#### add followers data to dic and save it as final list"
   ],
   "metadata": {
    "collapsed": false
   }
  },
  {
   "cell_type": "code",
   "execution_count": 138,
   "outputs": [
    {
     "ename": "NoSuchWindowException",
     "evalue": "Message: no such window: target window already closed\nfrom unknown error: web view not found\n  (Session info: chrome=107.0.5304.110)\nStacktrace:\n0   chromedriver                        0x00000001009a02c8 chromedriver + 4752072\n1   chromedriver                        0x0000000100920463 chromedriver + 4228195\n2   chromedriver                        0x0000000100583b18 chromedriver + 441112\n3   chromedriver                        0x0000000100560210 chromedriver + 295440\n4   chromedriver                        0x00000001005e5e3d chromedriver + 843325\n5   chromedriver                        0x00000001005f9719 chromedriver + 923417\n6   chromedriver                        0x00000001005e1b33 chromedriver + 826163\n7   chromedriver                        0x00000001005b29fd chromedriver + 633341\n8   chromedriver                        0x00000001005b4051 chromedriver + 639057\n9   chromedriver                        0x000000010096d30e chromedriver + 4543246\n10  chromedriver                        0x0000000100971a88 chromedriver + 4561544\n11  chromedriver                        0x00000001009796df chromedriver + 4593375\n12  chromedriver                        0x00000001009728fa chromedriver + 4565242\n13  chromedriver                        0x00000001009482cf chromedriver + 4391631\n14  chromedriver                        0x00000001009915b8 chromedriver + 4691384\n15  chromedriver                        0x0000000100991739 chromedriver + 4691769\n16  chromedriver                        0x00000001009a781e chromedriver + 4782110\n17  libsystem_pthread.dylib             0x00007ff818147259 _pthread_start + 125\n18  libsystem_pthread.dylib             0x00007ff818142c7b thread_start + 15\n",
     "output_type": "error",
     "traceback": [
      "\u001B[0;31m---------------------------------------------------------------------------\u001B[0m",
      "\u001B[0;31mNoSuchWindowException\u001B[0m                     Traceback (most recent call last)",
      "Cell \u001B[0;32mIn [138], line 19\u001B[0m\n\u001B[1;32m     17\u001B[0m \u001B[38;5;28;01mfor\u001B[39;00m i \u001B[38;5;129;01min\u001B[39;00m (df[\u001B[38;5;124m'\u001B[39m\u001B[38;5;124mFollowers\u001B[39m\u001B[38;5;124m'\u001B[39m]):\n\u001B[1;32m     18\u001B[0m     url1 \u001B[38;5;241m=\u001B[39m \u001B[38;5;124m'\u001B[39m\u001B[38;5;124mhttps://www.instagram.com/\u001B[39m\u001B[38;5;132;01m{}\u001B[39;00m\u001B[38;5;124m/\u001B[39m\u001B[38;5;124m'\u001B[39m\u001B[38;5;241m.\u001B[39mformat(i)\n\u001B[0;32m---> 19\u001B[0m     \u001B[43mdriver\u001B[49m\u001B[38;5;241;43m.\u001B[39;49m\u001B[43mget\u001B[49m\u001B[43m(\u001B[49m\u001B[43murl1\u001B[49m\u001B[43m)\u001B[49m\n\u001B[1;32m     20\u001B[0m     time\u001B[38;5;241m.\u001B[39msleep(\u001B[38;5;241m10\u001B[39m)\n\u001B[1;32m     22\u001B[0m \u001B[38;5;28;01mif\u001B[39;00m pageNotAvailable(\u001B[38;5;124m\"\u001B[39m\u001B[38;5;124m//div[@class=\u001B[39m\u001B[38;5;124m'\u001B[39m\u001B[38;5;124m_ab8w  _ab94 _ab99 _ab9h _ab9m _ab9p  _aba4 _abag _abcm\u001B[39m\u001B[38;5;124m'\u001B[39m\u001B[38;5;124m]/h2\u001B[39m\u001B[38;5;124m\"\u001B[39m) \u001B[38;5;129;01mis\u001B[39;00m \u001B[38;5;28;01mTrue\u001B[39;00m:\n",
      "File \u001B[0;32m~/Documents/PycharmProjects/Auto_Comment/lib/python3.10/site-packages/selenium/webdriver/remote/webdriver.py:455\u001B[0m, in \u001B[0;36mWebDriver.get\u001B[0;34m(self, url)\u001B[0m\n\u001B[1;32m    451\u001B[0m \u001B[38;5;28;01mdef\u001B[39;00m \u001B[38;5;21mget\u001B[39m(\u001B[38;5;28mself\u001B[39m, url: \u001B[38;5;28mstr\u001B[39m) \u001B[38;5;241m-\u001B[39m\u001B[38;5;241m>\u001B[39m \u001B[38;5;28;01mNone\u001B[39;00m:\n\u001B[1;32m    452\u001B[0m     \u001B[38;5;124;03m\"\"\"\u001B[39;00m\n\u001B[1;32m    453\u001B[0m \u001B[38;5;124;03m    Loads a web page in the current browser session.\u001B[39;00m\n\u001B[1;32m    454\u001B[0m \u001B[38;5;124;03m    \"\"\"\u001B[39;00m\n\u001B[0;32m--> 455\u001B[0m     \u001B[38;5;28;43mself\u001B[39;49m\u001B[38;5;241;43m.\u001B[39;49m\u001B[43mexecute\u001B[49m\u001B[43m(\u001B[49m\u001B[43mCommand\u001B[49m\u001B[38;5;241;43m.\u001B[39;49m\u001B[43mGET\u001B[49m\u001B[43m,\u001B[49m\u001B[43m \u001B[49m\u001B[43m{\u001B[49m\u001B[38;5;124;43m\"\u001B[39;49m\u001B[38;5;124;43murl\u001B[39;49m\u001B[38;5;124;43m\"\u001B[39;49m\u001B[43m:\u001B[49m\u001B[43m \u001B[49m\u001B[43murl\u001B[49m\u001B[43m}\u001B[49m\u001B[43m)\u001B[49m\n",
      "File \u001B[0;32m~/Documents/PycharmProjects/Auto_Comment/lib/python3.10/site-packages/selenium/webdriver/remote/webdriver.py:444\u001B[0m, in \u001B[0;36mWebDriver.execute\u001B[0;34m(self, driver_command, params)\u001B[0m\n\u001B[1;32m    442\u001B[0m response \u001B[38;5;241m=\u001B[39m \u001B[38;5;28mself\u001B[39m\u001B[38;5;241m.\u001B[39mcommand_executor\u001B[38;5;241m.\u001B[39mexecute(driver_command, params)\n\u001B[1;32m    443\u001B[0m \u001B[38;5;28;01mif\u001B[39;00m response:\n\u001B[0;32m--> 444\u001B[0m     \u001B[38;5;28;43mself\u001B[39;49m\u001B[38;5;241;43m.\u001B[39;49m\u001B[43merror_handler\u001B[49m\u001B[38;5;241;43m.\u001B[39;49m\u001B[43mcheck_response\u001B[49m\u001B[43m(\u001B[49m\u001B[43mresponse\u001B[49m\u001B[43m)\u001B[49m\n\u001B[1;32m    445\u001B[0m     response[\u001B[38;5;124m\"\u001B[39m\u001B[38;5;124mvalue\u001B[39m\u001B[38;5;124m\"\u001B[39m] \u001B[38;5;241m=\u001B[39m \u001B[38;5;28mself\u001B[39m\u001B[38;5;241m.\u001B[39m_unwrap_value(response\u001B[38;5;241m.\u001B[39mget(\u001B[38;5;124m\"\u001B[39m\u001B[38;5;124mvalue\u001B[39m\u001B[38;5;124m\"\u001B[39m, \u001B[38;5;28;01mNone\u001B[39;00m))\n\u001B[1;32m    446\u001B[0m     \u001B[38;5;28;01mreturn\u001B[39;00m response\n",
      "File \u001B[0;32m~/Documents/PycharmProjects/Auto_Comment/lib/python3.10/site-packages/selenium/webdriver/remote/errorhandler.py:249\u001B[0m, in \u001B[0;36mErrorHandler.check_response\u001B[0;34m(self, response)\u001B[0m\n\u001B[1;32m    247\u001B[0m         alert_text \u001B[38;5;241m=\u001B[39m value[\u001B[38;5;124m\"\u001B[39m\u001B[38;5;124malert\u001B[39m\u001B[38;5;124m\"\u001B[39m]\u001B[38;5;241m.\u001B[39mget(\u001B[38;5;124m\"\u001B[39m\u001B[38;5;124mtext\u001B[39m\u001B[38;5;124m\"\u001B[39m)\n\u001B[1;32m    248\u001B[0m     \u001B[38;5;28;01mraise\u001B[39;00m exception_class(message, screen, stacktrace, alert_text)  \u001B[38;5;66;03m# type: ignore[call-arg]  # mypy is not smart enough here\u001B[39;00m\n\u001B[0;32m--> 249\u001B[0m \u001B[38;5;28;01mraise\u001B[39;00m exception_class(message, screen, stacktrace)\n",
      "\u001B[0;31mNoSuchWindowException\u001B[0m: Message: no such window: target window already closed\nfrom unknown error: web view not found\n  (Session info: chrome=107.0.5304.110)\nStacktrace:\n0   chromedriver                        0x00000001009a02c8 chromedriver + 4752072\n1   chromedriver                        0x0000000100920463 chromedriver + 4228195\n2   chromedriver                        0x0000000100583b18 chromedriver + 441112\n3   chromedriver                        0x0000000100560210 chromedriver + 295440\n4   chromedriver                        0x00000001005e5e3d chromedriver + 843325\n5   chromedriver                        0x00000001005f9719 chromedriver + 923417\n6   chromedriver                        0x00000001005e1b33 chromedriver + 826163\n7   chromedriver                        0x00000001005b29fd chromedriver + 633341\n8   chromedriver                        0x00000001005b4051 chromedriver + 639057\n9   chromedriver                        0x000000010096d30e chromedriver + 4543246\n10  chromedriver                        0x0000000100971a88 chromedriver + 4561544\n11  chromedriver                        0x00000001009796df chromedriver + 4593375\n12  chromedriver                        0x00000001009728fa chromedriver + 4565242\n13  chromedriver                        0x00000001009482cf chromedriver + 4391631\n14  chromedriver                        0x00000001009915b8 chromedriver + 4691384\n15  chromedriver                        0x0000000100991739 chromedriver + 4691769\n16  chromedriver                        0x00000001009a781e chromedriver + 4782110\n17  libsystem_pthread.dylib             0x00007ff818147259 _pthread_start + 125\n18  libsystem_pthread.dylib             0x00007ff818142c7b thread_start + 15\n"
     ]
    }
   ],
   "source": [
    "followesDetails = {\"Profile\":[], \"Posts Count\":[], \"Followers\":[], \"Following\":[]}\n",
    "#search profile\n",
    "# Fun to check the profile if its public or privet\n",
    "def check(xpath):\n",
    "    try:\n",
    "        driver.find_element(By.XPATH, xpath)\n",
    "    except NoSuchElementException:\n",
    "        return False\n",
    "    return True\n",
    "\n",
    "# check if the page available or not\n",
    "def pageNotAvailable(xxpath):\n",
    "    try:\n",
    "        driver.find_element(By.XPATH, xxpath)\n",
    "    except NoSuchElementException:\n",
    "        return False\n",
    "    return True\n",
    "\n",
    "# Data Collecting\n",
    "for i in (df['Followers']):\n",
    "    url1 = 'https://www.instagram.com/{}/'.format(i)\n",
    "    driver.get(url1)\n",
    "    time.sleep(10)\n",
    "\n",
    "# Skip not available page\n",
    "if pageNotAvailable(\"//div[@class='_ab8w  _ab94 _ab99 _ab9h _ab9m _ab9p  _aba4 _abag _abcm']/h2\") is True:\n",
    "    pass\n",
    "\n",
    "        # for the privet profiles\n",
    "        if check(\"//div[@class='_aa_t']\") is True:\n",
    "            #profile information\n",
    "            posts = driver.find_element(By.XPATH, \"//ul[@class='x78zum5 x1q0g3np xieb3on']/li[1]/div/span\")\n",
    "            followers = driver.find_element(By.XPATH, \"//ul[@class='x78zum5 x1q0g3np xieb3on']/li[2]/div/span\")\n",
    "            following = driver.find_element(By.XPATH, \"//ul[@class='x78zum5 x1q0g3np xieb3on']/li[3]/div/span\")\n",
    "        # for the public profiles\n",
    "        else:\n",
    "            posts = driver.find_element(By.XPATH, \"//ul[@class='x78zum5 x1q0g3np xieb3on']/li[1]/div/span\")\n",
    "            followers = driver.find_element(By.XPATH, \"//ul[@class='x78zum5 x1q0g3np xieb3on']/li[2]/a/div/span\")\n",
    "            following = driver.find_element(By.XPATH, \"//ul[@class='x78zum5 x1q0g3np xieb3on']/li[3]/a/div/span\")\n",
    "\n",
    "        # Append data in the dic\n",
    "        followesDetails[\"Profile\"].append(i)\n",
    "        followesDetails[\"Posts Count\"].append(posts.text)\n",
    "        followesDetails[\"Followers\"].append(followers.text)\n",
    "        followesDetails[\"Following\"].append(following.text)"
   ],
   "metadata": {
    "collapsed": false
   }
  },
  {
   "cell_type": "code",
   "execution_count": 140,
   "outputs": [
    {
     "data": {
      "text/plain": "{'Profile': [], 'Psots Count': [], 'Followers': [], 'Following': []}"
     },
     "execution_count": 140,
     "metadata": {},
     "output_type": "execute_result"
    }
   ],
   "source": [
    "followesDetails"
   ],
   "metadata": {
    "collapsed": false
   }
  },
  {
   "cell_type": "code",
   "execution_count": 139,
   "outputs": [
    {
     "data": {
      "text/plain": "Empty DataFrame\nColumns: [Profile, Psots Count, Followers, Following]\nIndex: []",
      "text/html": "<div>\n<style scoped>\n    .dataframe tbody tr th:only-of-type {\n        vertical-align: middle;\n    }\n\n    .dataframe tbody tr th {\n        vertical-align: top;\n    }\n\n    .dataframe thead th {\n        text-align: right;\n    }\n</style>\n<table border=\"1\" class=\"dataframe\">\n  <thead>\n    <tr style=\"text-align: right;\">\n      <th></th>\n      <th>Profile</th>\n      <th>Psots Count</th>\n      <th>Followers</th>\n      <th>Following</th>\n    </tr>\n  </thead>\n  <tbody>\n  </tbody>\n</table>\n</div>"
     },
     "execution_count": 139,
     "metadata": {},
     "output_type": "execute_result"
    }
   ],
   "source": [
    "# Final Data Frame\n",
    "dfFinal = pd.DataFrame.from_dict(followesDetails)\n",
    "dfFinal"
   ],
   "metadata": {
    "collapsed": false
   }
  },
  {
   "cell_type": "code",
   "execution_count": null,
   "outputs": [],
   "source": [
    "# Data Frame to CSV final list\n",
    "dfFinal.to_csv(\"Full_Details_Final.csv\")"
   ],
   "metadata": {
    "collapsed": false
   }
  }
 ],
 "metadata": {
  "kernelspec": {
   "display_name": "Python 3",
   "language": "python",
   "name": "python3"
  },
  "language_info": {
   "codemirror_mode": {
    "name": "ipython",
    "version": 2
   },
   "file_extension": ".py",
   "mimetype": "text/x-python",
   "name": "python",
   "nbconvert_exporter": "python",
   "pygments_lexer": "ipython2",
   "version": "2.7.6"
  }
 },
 "nbformat": 4,
 "nbformat_minor": 0
}
