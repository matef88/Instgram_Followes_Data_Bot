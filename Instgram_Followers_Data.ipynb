{
 "cells": [
  {
   "cell_type": "code",
   "execution_count": 3,
   "outputs": [],
   "source": [
    "import time\n",
    "import pandas as pd\n",
    "from selenium import webdriver\n",
    "from selenium.webdriver.common.by import By\n",
    "from selenium.webdriver.common.keys import Keys\n",
    "from selenium.common.exceptions import NoSuchElementException"
   ],
   "metadata": {
    "collapsed": false
   }
  },
  {
   "cell_type": "markdown",
   "source": [
    "#### Initialisation the driver"
   ],
   "metadata": {
    "collapsed": false
   }
  },
  {
   "cell_type": "code",
   "execution_count": 4,
   "outputs": [],
   "source": [
    "#website\n",
    "url = 'https://www.instagram.com'\n",
    "username = 'unsendedmsg' # <<<<<<< ENTER USERNAME HERE\n",
    "password = 'deqkeq-sumpeX-nomku3' # <<<<<<< ENTER PASSWORD HERE"
   ],
   "metadata": {
    "collapsed": false
   }
  },
  {
   "cell_type": "markdown",
   "source": [
    "#### Login\n",
    "> you can change the user name and password from the below"
   ],
   "metadata": {
    "collapsed": false
   }
  },
  {
   "cell_type": "code",
   "execution_count": 5,
   "outputs": [],
   "source": [
    "# get the driver and open the url\n",
    "driver = webdriver.Chrome()\n",
    "driver.get(url)\n",
    "driver.maximize_window()\n",
    "time.sleep(10)\n",
    "\n",
    "#enter username\n",
    "enterUserName = driver.find_element(By.XPATH, \"//input[@aria-label='Phone number, username, or email']\")\n",
    "enterUserName.send_keys(username)\n",
    "time.sleep(2)\n",
    "\n",
    "#enter password\n",
    "enterPassword = driver.find_element(By.XPATH, \"//input[@aria-label='Password']\")\n",
    "enterPassword.send_keys(password)\n",
    "time.sleep(2)\n",
    "\n",
    "#click login\n",
    "loginClick = driver.find_element(By.XPATH, '//*[@id=\"loginForm\"]/div/div[3]')\n",
    "loginClick.click()\n",
    "time.sleep(10)\n",
    "\n",
    "# user to input the authentication code\n",
    "try:\n",
    "    authucator = driver.find_element(By.CLASS_NAME, '_aa48')\n",
    "    authucator.send_keys(input())\n",
    "    time.sleep(1)\n",
    "    validateAuth = driver.find_element(By.CLASS_NAME, '_acan')\n",
    "    validateAuth.click()\n",
    "    time.sleep(10)\n",
    "except:\n",
    "    pass\n",
    "\n",
    "#try first not now\n",
    "try:\n",
    "    NotNow = driver.find_element(By.XPATH, \"//button[text()='Not Now']\")\n",
    "    NotNow.click()\n",
    "    time.sleep(15)\n",
    "except:\n",
    "    pass\n",
    "\n",
    "#try second not now\n",
    "try:\n",
    "    secondNotNow = driver.find_element(By.XPATH, \"//button[text()='Not Now']\")\n",
    "    secondNotNow.click()\n",
    "    time.sleep(5)\n",
    "except:\n",
    "    pass\n",
    "\n",
    "#search profile\n",
    "search01 = driver.find_element(By.XPATH, \"//div[text()='Search']\")\n",
    "search01.click()\n",
    "time.sleep(5)\n",
    "search02 = driver.find_element(By.XPATH, \"//input[@aria-label='Search input']\")\n",
    "search02.send_keys('atefphotos') # <<<<<<<< ENTER TARGET ACCOUNT\n",
    "time.sleep(3)\n",
    "#press enter twice\n",
    "count = 0\n",
    "while count < 3:\n",
    "    search02.send_keys(Keys.ENTER)\n",
    "    count += 1\n",
    "time.sleep(2)\n",
    "\n",
    "#profile information\n",
    "posts = driver.find_element(By.XPATH, \"//ul[@class='x78zum5 x1q0g3np xieb3on']/li[1]/div/span\")\n",
    "followers = driver.find_element(By.XPATH, \"//ul[@class='x78zum5 x1q0g3np xieb3on']/li[2]/a/div/span\")\n",
    "following = driver.find_element(By.XPATH, \"//ul[@class='x78zum5 x1q0g3np xieb3on']/li[3]/a/div/span\")\n",
    "profileHandle = driver.find_element(By.XPATH, \"//div[@class='x1n2onr6 xeuugli xs83m0k x1q0g3np x78zum5 x6s0dn4']/a/h2\")\n",
    "\n",
    "#open follower list\n",
    "followers.click()\n",
    "time.sleep(5)\n",
    "followers_count = int(followers.text.replace(',', ''))\n",
    "\n",
    "# Scroll down\n",
    "while True:\n",
    "        followers_listScroll = driver.find_element(By.XPATH, \"//div[@class='_ab8w  _ab94 _ab99 _ab9h _ab9m _ab9o _abcm']/div[1]/div/div/span/a\")\n",
    "        followers_listScroll.send_keys(Keys.PAGE_DOWN)\n",
    "        time.sleep(.5)\n",
    "        followers_list = driver.find_elements(By.XPATH, \"//div[@class='_ab8w  _ab94 _ab99 _ab9h _ab9m _ab9o _abcm']/div[1]/div/div/span/a\")\n",
    "        followers_list_count = len(followers_list)\n",
    "        if followers_list_count == followers_count :\n",
    "            break\n",
    "\n",
    "#append the followers list\n",
    "full_list_of_followers = []\n",
    "for i in followers_list:\n",
    "    full_list_of_followers.append(i.text)"
   ],
   "metadata": {
    "collapsed": false
   }
  },
  {
   "cell_type": "markdown",
   "source": [
    "#### Cross Check our data"
   ],
   "metadata": {
    "collapsed": false
   }
  },
  {
   "cell_type": "code",
   "execution_count": null,
   "outputs": [],
   "source": [
    "full_list_of_followers"
   ],
   "metadata": {
    "collapsed": false,
    "pycharm": {
     "is_executing": true
    }
   }
  },
  {
   "cell_type": "code",
   "execution_count": null,
   "outputs": [],
   "source": [
    "len(full_list_of_followers)"
   ],
   "metadata": {
    "collapsed": false,
    "pycharm": {
     "is_executing": true
    }
   }
  },
  {
   "cell_type": "markdown",
   "source": [
    "#### Save Followers List"
   ],
   "metadata": {
    "collapsed": false
   }
  },
  {
   "cell_type": "code",
   "execution_count": 8,
   "outputs": [],
   "source": [
    "df = pd.DataFrame({\"Followers\":full_list_of_followers})\n",
    "df.to_csv('Full_Followers_List.csv') # <<<<<<< You can change the file name here"
   ],
   "metadata": {
    "collapsed": false
   }
  },
  {
   "cell_type": "markdown",
   "source": [
    "#### Get the followers data in DataFrame"
   ],
   "metadata": {
    "collapsed": false
   }
  },
  {
   "cell_type": "code",
   "execution_count": null,
   "outputs": [],
   "source": [
    "df = pd.read_csv('Full_Followers_List.csv')\n",
    "df['Followers']"
   ],
   "metadata": {
    "collapsed": false,
    "pycharm": {
     "is_executing": true
    }
   }
  },
  {
   "cell_type": "markdown",
   "source": [
    "#### add followers data to dic and save it as final list"
   ],
   "metadata": {
    "collapsed": false
   }
  },
  {
   "cell_type": "code",
   "execution_count": null,
   "outputs": [],
   "source": [
    "followesDetails = {\"Profile\":[], \"Posts Count\":[], \"Followers\":[], \"Following\":[]}\n",
    "#search profile\n",
    "# Fun to check the profile if its public or privet\n",
    "def check(xpath):\n",
    "    try:\n",
    "        driver.find_element(By.XPATH, xpath)\n",
    "    except NoSuchElementException:\n",
    "        return False\n",
    "    return True\n",
    "\n",
    "# check if the page available or not\n",
    "def pageNotAvailable(xxpath):\n",
    "    try:\n",
    "        driver.find_element(By.XPATH, xxpath)\n",
    "    except NoSuchElementException:\n",
    "        return False\n",
    "    return True\n",
    "\n",
    "# Data Collecting\n",
    "for i in (df['Followers']):\n",
    "    url1 = 'https://www.instagram.com/{}/'.format(i)\n",
    "    driver.get(url1)\n",
    "    time.sleep(10)\n",
    "\n",
    "# Skip not available page\n",
    "if pageNotAvailable(\"//div[@class='_ab8w  _ab94 _ab99 _ab9h _ab9m _ab9p  _aba4 _abag _abcm']/h2\") is True:\n",
    "    pass\n",
    "\n",
    "    # for the privet profiles\n",
    "    if check(\"//div[@class='_aa_t']\") is True:\n",
    "        #profile information\n",
    "        posts = driver.find_element(By.XPATH, \"//ul[@class='x78zum5 x1q0g3np xieb3on']/li[1]/div/span\")\n",
    "        followers = driver.find_element(By.XPATH, \"//ul[@class='x78zum5 x1q0g3np xieb3on']/li[2]/div/span\")\n",
    "        following = driver.find_element(By.XPATH, \"//ul[@class='x78zum5 x1q0g3np xieb3on']/li[3]/div/span\")\n",
    "    # for the public profiles\n",
    "    else:\n",
    "        posts = driver.find_element(By.XPATH, \"//ul[@class='x78zum5 x1q0g3np xieb3on']/li[1]/div/span\")\n",
    "        followers = driver.find_element(By.XPATH, \"//ul[@class='x78zum5 x1q0g3np xieb3on']/li[2]/a/div/span\")\n",
    "        following = driver.find_element(By.XPATH, \"//ul[@class='x78zum5 x1q0g3np xieb3on']/li[3]/a/div/span\")\n",
    "\n",
    "    # Append data in the dic\n",
    "    followesDetails[\"Profile\"].append(i)\n",
    "    followesDetails[\"Posts Count\"].append(posts.text)\n",
    "    followesDetails[\"Followers\"].append(followers.text)\n",
    "    followesDetails[\"Following\"].append(following.text)"
   ],
   "metadata": {
    "collapsed": false,
    "pycharm": {
     "is_executing": true
    }
   }
  },
  {
   "cell_type": "code",
   "execution_count": null,
   "outputs": [],
   "source": [
    "followesDetails"
   ],
   "metadata": {
    "collapsed": false,
    "pycharm": {
     "is_executing": true
    }
   }
  },
  {
   "cell_type": "code",
   "execution_count": null,
   "outputs": [],
   "source": [
    "# Final Data Frame\n",
    "dfFinal = pd.DataFrame.from_dict(followesDetails)\n",
    "dfFinal"
   ],
   "metadata": {
    "collapsed": false
   }
  },
  {
   "cell_type": "code",
   "execution_count": null,
   "outputs": [],
   "source": [
    "# Data Frame to CSV final list\n",
    "dfFinal.to_csv(\"Full_Details_Final.csv\")"
   ],
   "metadata": {
    "collapsed": false
   }
  },
  {
   "cell_type": "code",
   "execution_count": null,
   "outputs": [],
   "source": [],
   "metadata": {
    "collapsed": false
   }
  }
 ],
 "metadata": {
  "kernelspec": {
   "display_name": "Python 3",
   "language": "python",
   "name": "python3"
  },
  "language_info": {
   "codemirror_mode": {
    "name": "ipython",
    "version": 2
   },
   "file_extension": ".py",
   "mimetype": "text/x-python",
   "name": "python",
   "nbconvert_exporter": "python",
   "pygments_lexer": "ipython2",
   "version": "2.7.6"
  }
 },
 "nbformat": 4,
 "nbformat_minor": 0
}
